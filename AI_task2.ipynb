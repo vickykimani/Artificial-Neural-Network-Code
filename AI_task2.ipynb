{
  "nbformat": 4,
  "nbformat_minor": 0,
  "metadata": {
    "colab": {
      "name": "AI_task2.ipynb",
      "provenance": []
    },
    "kernelspec": {
      "name": "python3",
      "display_name": "Python 3"
    },
    "language_info": {
      "name": "python"
    }
  },
  "cells": [
    {
      "cell_type": "code",
      "metadata": {
        "id": "MT-Ge5a80jvz"
      },
      "source": [
        "import pandas as pd\n",
        "import numpy as np"
      ],
      "execution_count": null,
      "outputs": []
    },
    {
      "cell_type": "code",
      "metadata": {
        "id": "ElwfxTid1Zv8"
      },
      "source": [
        "from numpy import array\n",
        "from sklearn.preprocessing import Normalizer"
      ],
      "execution_count": null,
      "outputs": []
    },
    {
      "cell_type": "markdown",
      "metadata": {
        "id": "fpvQeA1V1p6V"
      },
      "source": [
        "dataset"
      ]
    },
    {
      "cell_type": "code",
      "metadata": {
        "id": "dfXSDemh1rjx"
      },
      "source": [
        "data={'X1':[30,40,50,20,15,60], 'X2':[40,50,20,15,60,70], 'X3':[50,20,15,60,70,50], 'Y':[20,15,60,70,50,40]}"
      ],
      "execution_count": null,
      "outputs": []
    },
    {
      "cell_type": "code",
      "metadata": {
        "id": "7LSQp-1t26x3"
      },
      "source": [
        "dataset=pd.DataFrame(data)"
      ],
      "execution_count": null,
      "outputs": []
    },
    {
      "cell_type": "code",
      "metadata": {
        "colab": {
          "base_uri": "https://localhost:8080/",
          "height": 238
        },
        "id": "IgKhbEGQ3Aig",
        "outputId": "551a0609-e10f-4dd5-f344-12ffcc5f5194"
      },
      "source": [
        "dataset"
      ],
      "execution_count": null,
      "outputs": [
        {
          "output_type": "execute_result",
          "data": {
            "text/html": [
              "\n",
              "  <div id=\"df-ae7512fa-b7e6-4f8c-b350-17690fb94c53\">\n",
              "    <div class=\"colab-df-container\">\n",
              "      <div>\n",
              "<style scoped>\n",
              "    .dataframe tbody tr th:only-of-type {\n",
              "        vertical-align: middle;\n",
              "    }\n",
              "\n",
              "    .dataframe tbody tr th {\n",
              "        vertical-align: top;\n",
              "    }\n",
              "\n",
              "    .dataframe thead th {\n",
              "        text-align: right;\n",
              "    }\n",
              "</style>\n",
              "<table border=\"1\" class=\"dataframe\">\n",
              "  <thead>\n",
              "    <tr style=\"text-align: right;\">\n",
              "      <th></th>\n",
              "      <th>X1</th>\n",
              "      <th>X2</th>\n",
              "      <th>X3</th>\n",
              "      <th>Y</th>\n",
              "    </tr>\n",
              "  </thead>\n",
              "  <tbody>\n",
              "    <tr>\n",
              "      <th>0</th>\n",
              "      <td>30</td>\n",
              "      <td>40</td>\n",
              "      <td>50</td>\n",
              "      <td>20</td>\n",
              "    </tr>\n",
              "    <tr>\n",
              "      <th>1</th>\n",
              "      <td>40</td>\n",
              "      <td>50</td>\n",
              "      <td>20</td>\n",
              "      <td>15</td>\n",
              "    </tr>\n",
              "    <tr>\n",
              "      <th>2</th>\n",
              "      <td>50</td>\n",
              "      <td>20</td>\n",
              "      <td>15</td>\n",
              "      <td>60</td>\n",
              "    </tr>\n",
              "    <tr>\n",
              "      <th>3</th>\n",
              "      <td>20</td>\n",
              "      <td>15</td>\n",
              "      <td>60</td>\n",
              "      <td>70</td>\n",
              "    </tr>\n",
              "    <tr>\n",
              "      <th>4</th>\n",
              "      <td>15</td>\n",
              "      <td>60</td>\n",
              "      <td>70</td>\n",
              "      <td>50</td>\n",
              "    </tr>\n",
              "    <tr>\n",
              "      <th>5</th>\n",
              "      <td>60</td>\n",
              "      <td>70</td>\n",
              "      <td>50</td>\n",
              "      <td>40</td>\n",
              "    </tr>\n",
              "  </tbody>\n",
              "</table>\n",
              "</div>\n",
              "      <button class=\"colab-df-convert\" onclick=\"convertToInteractive('df-ae7512fa-b7e6-4f8c-b350-17690fb94c53')\"\n",
              "              title=\"Convert this dataframe to an interactive table.\"\n",
              "              style=\"display:none;\">\n",
              "        \n",
              "  <svg xmlns=\"http://www.w3.org/2000/svg\" height=\"24px\"viewBox=\"0 0 24 24\"\n",
              "       width=\"24px\">\n",
              "    <path d=\"M0 0h24v24H0V0z\" fill=\"none\"/>\n",
              "    <path d=\"M18.56 5.44l.94 2.06.94-2.06 2.06-.94-2.06-.94-.94-2.06-.94 2.06-2.06.94zm-11 1L8.5 8.5l.94-2.06 2.06-.94-2.06-.94L8.5 2.5l-.94 2.06-2.06.94zm10 10l.94 2.06.94-2.06 2.06-.94-2.06-.94-.94-2.06-.94 2.06-2.06.94z\"/><path d=\"M17.41 7.96l-1.37-1.37c-.4-.4-.92-.59-1.43-.59-.52 0-1.04.2-1.43.59L10.3 9.45l-7.72 7.72c-.78.78-.78 2.05 0 2.83L4 21.41c.39.39.9.59 1.41.59.51 0 1.02-.2 1.41-.59l7.78-7.78 2.81-2.81c.8-.78.8-2.07 0-2.86zM5.41 20L4 18.59l7.72-7.72 1.47 1.35L5.41 20z\"/>\n",
              "  </svg>\n",
              "      </button>\n",
              "      \n",
              "  <style>\n",
              "    .colab-df-container {\n",
              "      display:flex;\n",
              "      flex-wrap:wrap;\n",
              "      gap: 12px;\n",
              "    }\n",
              "\n",
              "    .colab-df-convert {\n",
              "      background-color: #E8F0FE;\n",
              "      border: none;\n",
              "      border-radius: 50%;\n",
              "      cursor: pointer;\n",
              "      display: none;\n",
              "      fill: #1967D2;\n",
              "      height: 32px;\n",
              "      padding: 0 0 0 0;\n",
              "      width: 32px;\n",
              "    }\n",
              "\n",
              "    .colab-df-convert:hover {\n",
              "      background-color: #E2EBFA;\n",
              "      box-shadow: 0px 1px 2px rgba(60, 64, 67, 0.3), 0px 1px 3px 1px rgba(60, 64, 67, 0.15);\n",
              "      fill: #174EA6;\n",
              "    }\n",
              "\n",
              "    [theme=dark] .colab-df-convert {\n",
              "      background-color: #3B4455;\n",
              "      fill: #D2E3FC;\n",
              "    }\n",
              "\n",
              "    [theme=dark] .colab-df-convert:hover {\n",
              "      background-color: #434B5C;\n",
              "      box-shadow: 0px 1px 3px 1px rgba(0, 0, 0, 0.15);\n",
              "      filter: drop-shadow(0px 1px 2px rgba(0, 0, 0, 0.3));\n",
              "      fill: #FFFFFF;\n",
              "    }\n",
              "  </style>\n",
              "\n",
              "      <script>\n",
              "        const buttonEl =\n",
              "          document.querySelector('#df-ae7512fa-b7e6-4f8c-b350-17690fb94c53 button.colab-df-convert');\n",
              "        buttonEl.style.display =\n",
              "          google.colab.kernel.accessAllowed ? 'block' : 'none';\n",
              "\n",
              "        async function convertToInteractive(key) {\n",
              "          const element = document.querySelector('#df-ae7512fa-b7e6-4f8c-b350-17690fb94c53');\n",
              "          const dataTable =\n",
              "            await google.colab.kernel.invokeFunction('convertToInteractive',\n",
              "                                                     [key], {});\n",
              "          if (!dataTable) return;\n",
              "\n",
              "          const docLinkHtml = 'Like what you see? Visit the ' +\n",
              "            '<a target=\"_blank\" href=https://colab.research.google.com/notebooks/data_table.ipynb>data table notebook</a>'\n",
              "            + ' to learn more about interactive tables.';\n",
              "          element.innerHTML = '';\n",
              "          dataTable['output_type'] = 'display_data';\n",
              "          await google.colab.output.renderOutput(dataTable, element);\n",
              "          const docLink = document.createElement('div');\n",
              "          docLink.innerHTML = docLinkHtml;\n",
              "          element.appendChild(docLink);\n",
              "        }\n",
              "      </script>\n",
              "    </div>\n",
              "  </div>\n",
              "  "
            ],
            "text/plain": [
              "   X1  X2  X3   Y\n",
              "0  30  40  50  20\n",
              "1  40  50  20  15\n",
              "2  50  20  15  60\n",
              "3  20  15  60  70\n",
              "4  15  60  70  50\n",
              "5  60  70  50  40"
            ]
          },
          "metadata": {},
          "execution_count": 6
        }
      ]
    },
    {
      "cell_type": "markdown",
      "metadata": {
        "id": "WBYVf74e7WLE"
      },
      "source": [
        "task=create an artificial neural network that is capable of predicting the value of Y based on the values X1, X2, and X3."
      ]
    },
    {
      "cell_type": "markdown",
      "metadata": {
        "id": "7dt9BJM-8lRG"
      },
      "source": [
        "ANN executes in two phases: feed forward and back propagation. in the feed forward phase we have one weight for each input layer. the weights of a neural network are the strings that we have to adjust in order to be able to correctly predict our output."
      ]
    },
    {
      "cell_type": "markdown",
      "metadata": {
        "id": "2YUm0X949rTA"
      },
      "source": [
        "Defining both independent and dependent variables."
      ]
    },
    {
      "cell_type": "code",
      "metadata": {
        "id": "T7Midgq4_Rr6"
      },
      "source": [
        "#independent variables"
      ],
      "execution_count": null,
      "outputs": []
    },
    {
      "cell_type": "code",
      "metadata": {
        "id": "PxowspVI_WHa"
      },
      "source": [
        "input_set=np.array([[30,40,50],\n",
        "                    [40,50,20],\n",
        "                    [50,20,15],\n",
        "                    [20,15,60],\n",
        "                    [15,60,70],\n",
        "                    [60,70,50]])#dependent variable"
      ],
      "execution_count": null,
      "outputs": []
    },
    {
      "cell_type": "code",
      "metadata": {
        "id": "_cq-B4LF_-a0"
      },
      "source": [
        "labels=np.array([[20,\n",
        "                  15,\n",
        "                  60,\n",
        "                  70,\n",
        "                  50,\n",
        "                  40]])"
      ],
      "execution_count": null,
      "outputs": []
    },
    {
      "cell_type": "code",
      "metadata": {
        "id": "UmfQGpBRAQVd"
      },
      "source": [
        "labels=labels.reshape(6,1) #converts labels to vector"
      ],
      "execution_count": null,
      "outputs": []
    },
    {
      "cell_type": "markdown",
      "metadata": {
        "id": "VWSF895V9ztb"
      },
      "source": [
        "define hyperparameters"
      ]
    },
    {
      "cell_type": "code",
      "metadata": {
        "id": "E0DqUEkTAxYE"
      },
      "source": [
        "np.random.seed(42)"
      ],
      "execution_count": null,
      "outputs": []
    },
    {
      "cell_type": "code",
      "metadata": {
        "id": "WjPSYBIuA41l"
      },
      "source": [
        "weights=np.random.rand(3,1)"
      ],
      "execution_count": null,
      "outputs": []
    },
    {
      "cell_type": "code",
      "metadata": {
        "id": "tdkzsfEtBA0R"
      },
      "source": [
        "bias=np.random.rand(1)"
      ],
      "execution_count": null,
      "outputs": []
    },
    {
      "cell_type": "code",
      "metadata": {
        "id": "nIHg5CGrBHSz"
      },
      "source": [
        "lr=0.05 #learning rate"
      ],
      "execution_count": null,
      "outputs": []
    },
    {
      "cell_type": "markdown",
      "metadata": {
        "id": "2p7IoriZ-ICJ"
      },
      "source": [
        "define activation function and its derivative"
      ]
    },
    {
      "cell_type": "code",
      "metadata": {
        "id": "Tv06sO5MBQKg"
      },
      "source": [
        "def sigmoid(x):\n",
        "  return 1/(1+np.exp(-x))"
      ],
      "execution_count": null,
      "outputs": []
    },
    {
      "cell_type": "code",
      "metadata": {
        "id": "dAL_JTpXBkpE"
      },
      "source": [
        "def sigmoid_derivative(x):\n",
        "  return sigmoid(x)*(1-sigmoid(x))"
      ],
      "execution_count": null,
      "outputs": []
    },
    {
      "cell_type": "markdown",
      "metadata": {
        "id": "UQTvLedF-L9k"
      },
      "source": [
        "train the model"
      ]
    },
    {
      "cell_type": "code",
      "metadata": {
        "colab": {
          "base_uri": "https://localhost:8080/"
        },
        "id": "0XrmZwciB8a3",
        "outputId": "c54fc57e-ca43-43a2-a161-cbdde8866101"
      },
      "source": [
        "for epoch in range(100):\n",
        "  #FEED FORWARD PHASE\n",
        "  inputs= input_set  #store the values from the input input_set to the inputs variable so that the value of input_set remains as it is in each iteration\n",
        "  XW=np.dot(inputs, weights)+bias #dot product of of the input and weight and add bias to it.\n",
        "  z=sigmoid(XW) #pass the dot product through the sigmoid activation function\n",
        "  \n",
        "  #BACK PROPAGATION PHASE\n",
        "  error=z-labels #find the error\n",
        "  print(error.sum())\n",
        "  dcost=error #done using cost function to get the slope\n",
        "  dpred=sigmoid_derivative(z)\n",
        "  z_del=dcost*dpred\n",
        "  inputs=input_set.T\n",
        "  weights=weights-lr*np.dot(inputs,z_del)\n",
        "\n",
        "  for num in z_del:\n",
        "    bias=bias-lr*num #multiply the learning rate with the derivative to increase the speed of learning"
      ],
      "execution_count": null,
      "outputs": [
        {
          "output_type": "stream",
          "name": "stdout",
          "text": [
            "-249.0\n",
            "-249.0\n",
            "-249.0\n",
            "-249.0\n",
            "-249.0\n",
            "-249.0\n",
            "-249.0\n",
            "-249.0\n",
            "-249.0\n",
            "-249.0\n",
            "-249.0\n",
            "-249.0\n",
            "-249.0\n",
            "-249.0\n",
            "-249.0\n",
            "-249.0\n",
            "-249.0\n",
            "-249.0\n",
            "-249.0\n",
            "-249.0\n",
            "-249.0\n",
            "-249.0\n",
            "-249.0\n",
            "-249.0\n",
            "-249.0\n",
            "-249.0\n",
            "-249.0\n",
            "-249.0\n",
            "-249.0\n",
            "-249.0\n",
            "-249.0\n",
            "-249.0\n",
            "-249.0\n",
            "-249.0\n",
            "-249.0\n",
            "-249.0\n",
            "-249.0\n",
            "-249.0\n",
            "-249.0\n",
            "-249.0\n",
            "-249.0\n",
            "-249.0\n",
            "-249.0\n",
            "-249.0\n",
            "-249.0\n",
            "-249.0\n",
            "-249.0\n",
            "-249.0\n",
            "-249.0\n",
            "-249.0\n",
            "-249.0\n",
            "-249.0\n",
            "-249.0\n",
            "-249.0\n",
            "-249.0\n",
            "-249.0\n",
            "-249.0\n",
            "-249.0\n",
            "-249.0\n",
            "-249.0\n",
            "-249.0\n",
            "-249.0\n",
            "-249.0\n",
            "-249.0\n",
            "-249.0\n",
            "-249.0\n",
            "-249.0\n",
            "-249.0\n",
            "-249.0\n",
            "-249.0\n",
            "-249.0\n",
            "-249.0\n",
            "-249.0\n",
            "-249.0\n",
            "-249.0\n",
            "-249.0\n",
            "-249.0\n",
            "-249.0\n",
            "-249.0\n",
            "-249.0\n",
            "-249.0\n",
            "-249.0\n",
            "-249.0\n",
            "-249.0\n",
            "-249.0\n",
            "-249.0\n",
            "-249.0\n",
            "-249.0\n",
            "-249.0\n",
            "-249.0\n",
            "-249.0\n",
            "-249.0\n",
            "-249.0\n",
            "-249.0\n",
            "-249.0\n",
            "-249.0\n",
            "-249.0\n",
            "-249.0\n",
            "-249.0\n",
            "-249.0\n"
          ]
        }
      ]
    },
    {
      "cell_type": "markdown",
      "metadata": {
        "id": "6E6qcoUR-P9Q"
      },
      "source": [
        "make predictions"
      ]
    },
    {
      "cell_type": "code",
      "metadata": {
        "colab": {
          "base_uri": "https://localhost:8080/"
        },
        "id": "EYqDibrUDo2L",
        "outputId": "582f28fd-5162-4968-841d-1fb47ef53eee"
      },
      "source": [
        "single_pt=np.array([1,0,0])\n",
        "result=sigmoid(np.dot(single_pt, weights)+bias)\n",
        "print(result)   #output here is classified as 1"
      ],
      "execution_count": null,
      "outputs": [
        {
          "output_type": "stream",
          "name": "stdout",
          "text": [
            "[1.]\n"
          ]
        }
      ]
    },
    {
      "cell_type": "code",
      "metadata": {
        "colab": {
          "base_uri": "https://localhost:8080/"
        },
        "id": "PPyx7lBhEO7p",
        "outputId": "beaf61b3-0801-4b8c-d6c0-9487a706ba03"
      },
      "source": [
        "single_pt=np.array([0,1,0])\n",
        "result=sigmoid(np.dot(single_pt, weights)+bias)\n",
        "print(result)   #output here is classified as 1"
      ],
      "execution_count": null,
      "outputs": [
        {
          "output_type": "stream",
          "name": "stdout",
          "text": [
            "[1.]\n"
          ]
        }
      ]
    }
  ]
}